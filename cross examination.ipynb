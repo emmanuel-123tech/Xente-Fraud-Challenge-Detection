{
 "cells": [
  {
   "cell_type": "code",
   "execution_count": 2,
   "metadata": {},
   "outputs": [],
   "source": [
    "# load modules\n",
    "import pandas as pd\n",
    "import numpy as np\n",
    "import matplotlib.pyplot as plt\n",
    "%matplotlib inline\n",
    "import seaborn as sns\n",
    "\n",
    "from pandas.plotting import scatter_matrix\n",
    "\n",
    "# stop warnings\n",
    "import warnings \n",
    "warnings.filterwarnings('ignore')"
   ]
  },
  {
   "cell_type": "code",
   "execution_count": 3,
   "metadata": {},
   "outputs": [],
   "source": [
    "# display column limita\n",
    "pd.set_option('display.max_columns',500)"
   ]
  },
  {
   "cell_type": "code",
   "execution_count": 4,
   "metadata": {},
   "outputs": [
    {
     "data": {
      "text/html": [
       "<div>\n",
       "<style scoped>\n",
       "    .dataframe tbody tr th:only-of-type {\n",
       "        vertical-align: middle;\n",
       "    }\n",
       "\n",
       "    .dataframe tbody tr th {\n",
       "        vertical-align: top;\n",
       "    }\n",
       "\n",
       "    .dataframe thead th {\n",
       "        text-align: right;\n",
       "    }\n",
       "</style>\n",
       "<table border=\"1\" class=\"dataframe\">\n",
       "  <thead>\n",
       "    <tr style=\"text-align: right;\">\n",
       "      <th></th>\n",
       "      <th>TransactionId</th>\n",
       "      <th>BatchId</th>\n",
       "      <th>AccountId</th>\n",
       "      <th>SubscriptionId</th>\n",
       "      <th>CustomerId</th>\n",
       "      <th>CurrencyCode</th>\n",
       "      <th>CountryCode</th>\n",
       "      <th>ProviderId</th>\n",
       "      <th>ProductId</th>\n",
       "      <th>ProductCategory</th>\n",
       "      <th>ChannelId</th>\n",
       "      <th>Amount</th>\n",
       "      <th>Value</th>\n",
       "      <th>TransactionStartTime</th>\n",
       "      <th>PricingStrategy</th>\n",
       "      <th>FraudResult</th>\n",
       "    </tr>\n",
       "  </thead>\n",
       "  <tbody>\n",
       "    <tr>\n",
       "      <th>0</th>\n",
       "      <td>TransactionId_76871</td>\n",
       "      <td>BatchId_36123</td>\n",
       "      <td>AccountId_3957</td>\n",
       "      <td>SubscriptionId_887</td>\n",
       "      <td>CustomerId_4406</td>\n",
       "      <td>UGX</td>\n",
       "      <td>256</td>\n",
       "      <td>ProviderId_6</td>\n",
       "      <td>ProductId_10</td>\n",
       "      <td>airtime</td>\n",
       "      <td>ChannelId_3</td>\n",
       "      <td>1000.0</td>\n",
       "      <td>1000</td>\n",
       "      <td>2018-11-15T02:18:49Z</td>\n",
       "      <td>2</td>\n",
       "      <td>0</td>\n",
       "    </tr>\n",
       "    <tr>\n",
       "      <th>1</th>\n",
       "      <td>TransactionId_73770</td>\n",
       "      <td>BatchId_15642</td>\n",
       "      <td>AccountId_4841</td>\n",
       "      <td>SubscriptionId_3829</td>\n",
       "      <td>CustomerId_4406</td>\n",
       "      <td>UGX</td>\n",
       "      <td>256</td>\n",
       "      <td>ProviderId_4</td>\n",
       "      <td>ProductId_6</td>\n",
       "      <td>financial_services</td>\n",
       "      <td>ChannelId_2</td>\n",
       "      <td>-20.0</td>\n",
       "      <td>20</td>\n",
       "      <td>2018-11-15T02:19:08Z</td>\n",
       "      <td>2</td>\n",
       "      <td>0</td>\n",
       "    </tr>\n",
       "    <tr>\n",
       "      <th>2</th>\n",
       "      <td>TransactionId_26203</td>\n",
       "      <td>BatchId_53941</td>\n",
       "      <td>AccountId_4229</td>\n",
       "      <td>SubscriptionId_222</td>\n",
       "      <td>CustomerId_4683</td>\n",
       "      <td>UGX</td>\n",
       "      <td>256</td>\n",
       "      <td>ProviderId_6</td>\n",
       "      <td>ProductId_1</td>\n",
       "      <td>airtime</td>\n",
       "      <td>ChannelId_3</td>\n",
       "      <td>500.0</td>\n",
       "      <td>500</td>\n",
       "      <td>2018-11-15T02:44:21Z</td>\n",
       "      <td>2</td>\n",
       "      <td>0</td>\n",
       "    </tr>\n",
       "    <tr>\n",
       "      <th>3</th>\n",
       "      <td>TransactionId_380</td>\n",
       "      <td>BatchId_102363</td>\n",
       "      <td>AccountId_648</td>\n",
       "      <td>SubscriptionId_2185</td>\n",
       "      <td>CustomerId_988</td>\n",
       "      <td>UGX</td>\n",
       "      <td>256</td>\n",
       "      <td>ProviderId_1</td>\n",
       "      <td>ProductId_21</td>\n",
       "      <td>utility_bill</td>\n",
       "      <td>ChannelId_3</td>\n",
       "      <td>20000.0</td>\n",
       "      <td>21800</td>\n",
       "      <td>2018-11-15T03:32:55Z</td>\n",
       "      <td>2</td>\n",
       "      <td>0</td>\n",
       "    </tr>\n",
       "    <tr>\n",
       "      <th>4</th>\n",
       "      <td>TransactionId_28195</td>\n",
       "      <td>BatchId_38780</td>\n",
       "      <td>AccountId_4841</td>\n",
       "      <td>SubscriptionId_3829</td>\n",
       "      <td>CustomerId_988</td>\n",
       "      <td>UGX</td>\n",
       "      <td>256</td>\n",
       "      <td>ProviderId_4</td>\n",
       "      <td>ProductId_6</td>\n",
       "      <td>financial_services</td>\n",
       "      <td>ChannelId_2</td>\n",
       "      <td>-644.0</td>\n",
       "      <td>644</td>\n",
       "      <td>2018-11-15T03:34:21Z</td>\n",
       "      <td>2</td>\n",
       "      <td>0</td>\n",
       "    </tr>\n",
       "  </tbody>\n",
       "</table>\n",
       "</div>"
      ],
      "text/plain": [
       "         TransactionId         BatchId       AccountId       SubscriptionId  \\\n",
       "0  TransactionId_76871   BatchId_36123  AccountId_3957   SubscriptionId_887   \n",
       "1  TransactionId_73770   BatchId_15642  AccountId_4841  SubscriptionId_3829   \n",
       "2  TransactionId_26203   BatchId_53941  AccountId_4229   SubscriptionId_222   \n",
       "3    TransactionId_380  BatchId_102363   AccountId_648  SubscriptionId_2185   \n",
       "4  TransactionId_28195   BatchId_38780  AccountId_4841  SubscriptionId_3829   \n",
       "\n",
       "        CustomerId CurrencyCode  CountryCode    ProviderId     ProductId  \\\n",
       "0  CustomerId_4406          UGX          256  ProviderId_6  ProductId_10   \n",
       "1  CustomerId_4406          UGX          256  ProviderId_4   ProductId_6   \n",
       "2  CustomerId_4683          UGX          256  ProviderId_6   ProductId_1   \n",
       "3   CustomerId_988          UGX          256  ProviderId_1  ProductId_21   \n",
       "4   CustomerId_988          UGX          256  ProviderId_4   ProductId_6   \n",
       "\n",
       "      ProductCategory    ChannelId   Amount  Value  TransactionStartTime  \\\n",
       "0             airtime  ChannelId_3   1000.0   1000  2018-11-15T02:18:49Z   \n",
       "1  financial_services  ChannelId_2    -20.0     20  2018-11-15T02:19:08Z   \n",
       "2             airtime  ChannelId_3    500.0    500  2018-11-15T02:44:21Z   \n",
       "3        utility_bill  ChannelId_3  20000.0  21800  2018-11-15T03:32:55Z   \n",
       "4  financial_services  ChannelId_2   -644.0    644  2018-11-15T03:34:21Z   \n",
       "\n",
       "   PricingStrategy  FraudResult  \n",
       "0                2            0  \n",
       "1                2            0  \n",
       "2                2            0  \n",
       "3                2            0  \n",
       "4                2            0  "
      ]
     },
     "execution_count": 4,
     "metadata": {},
     "output_type": "execute_result"
    }
   ],
   "source": [
    "# load data\n",
    "train = pd.read_csv('train.csv')\n",
    "validation = pd.read_csv('test.csv')\n",
    "train.head()"
   ]
  },
  {
   "cell_type": "code",
   "execution_count": 5,
   "metadata": {},
   "outputs": [
    {
     "name": "stdout",
     "output_type": "stream",
     "text": [
      "The number of Non-Frauds are: 95469 which is 99.8 % of the dataset\n",
      "The number of Frauds are: 193 which is 0.2 % of the dataset\n"
     ]
    }
   ],
   "source": [
    "# checking the balance of the data\n",
    "print('The number of Non-Frauds are: ' + str(train['FraudResult'].value_counts()[0]) + ' which is', round(train['FraudResult'].value_counts()[0]/len(train) * 100,2), '% of the dataset')\n",
    "print('The number of Frauds are: ' + str(train['FraudResult'].value_counts()[1]) + ' which is', round(train['FraudResult'].value_counts()[1]/len(train) * 100,2), '% of the dataset')"
   ]
  },
  {
   "cell_type": "code",
   "execution_count": 6,
   "metadata": {},
   "outputs": [
    {
     "data": {
      "text/plain": [
       "<matplotlib.axes._subplots.AxesSubplot at 0x1b294e75be0>"
      ]
     },
     "execution_count": 6,
     "metadata": {},
     "output_type": "execute_result"
    },
    {
     "data": {
      "image/png": "[encoded data removed]",
      "text/plain": [
       "<Figure size 432x288 with 1 Axes>"
      ]
     },
     "metadata": {
      "needs_background": "light"
     },
     "output_type": "display_data"
    }
   ],
   "source": [
    "# visualize category class\n",
    "sns.countplot(x='FraudResult', data=train)"
   ]
  },
  {
   "cell_type": "markdown",
   "metadata": {},
   "source": [
    "the data is highly imbalanced, non frauds = 99.8% and frauds = 0.2%. It calls for smote balancing."
   ]
  },
  {
   "cell_type": "code",
   "execution_count": 7,
   "metadata": {},
   "outputs": [
    {
     "name": "stderr",
     "output_type": "stream",
     "text": [
      "Using TensorFlow backend.\n"
     ]
    }
   ],
   "source": [
    "# SMOTE\n",
    "# oversampling\n",
    "from imblearn.over_sampling import SMOTE\n",
    "\n",
    "count_class_0, count_class_1 = train.FraudResult.value_counts()\n",
    "\n",
    "# divide by class\n",
    "train_class_0 = train[train['FraudResult'] == 0]\n",
    "train_class_1 = train[train['FraudResult'] == 1]"
   ]
  },
  {
   "cell_type": "code",
   "execution_count": 8,
   "metadata": {},
   "outputs": [
    {
     "name": "stdout",
     "output_type": "stream",
     "text": [
      "Random over-sampling:\n",
      "1    95469\n",
      "0    95469\n",
      "Name: FraudResult, dtype: int64\n"
     ]
    },
    {
     "data": {
      "image/png": "[encoded data removed]",
      "text/plain": [
       "<Figure size 432x288 with 1 Axes>"
      ]
     },
     "metadata": {
      "needs_background": "light"
     },
     "output_type": "display_data"
    }
   ],
   "source": [
    "train_class_1_over = train_class_1.sample(count_class_0, replace=True)\n",
    "train_test_over = pd.concat([train_class_0, train_class_1_over], axis=0)\n",
    "\n",
    "print('Random over-sampling:')\n",
    "print(train_test_over.FraudResult.value_counts())\n",
    "\n",
    "train_test_over.FraudResult.value_counts().plot(kind='bar', title='Count (FraudResult)');"
   ]
  },
  {
   "cell_type": "code",
   "execution_count": 9,
   "metadata": {},
   "outputs": [],
   "source": [
    "train1 = train_test_over "
   ]
  },
  {
   "cell_type": "code",
   "execution_count": 10,
   "metadata": {},
   "outputs": [
    {
     "data": {
      "text/plain": [
       "Index(['CountryCode', 'Amount', 'Value', 'PricingStrategy', 'FraudResult'], dtype='object')"
      ]
     },
     "execution_count": 10,
     "metadata": {},
     "output_type": "execute_result"
    }
   ],
   "source": [
    "numeric_features = train.select_dtypes(include=[np.number])\n",
    "numeric_features.columns"
   ]
  },
  {
   "cell_type": "code",
   "execution_count": 12,
   "metadata": {},
   "outputs": [
    {
     "data": {
      "text/plain": [
       "Index(['TransactionId', 'BatchId', 'AccountId', 'SubscriptionId', 'CustomerId',\n",
       "       'CurrencyCode', 'ProviderId', 'ProductId', 'ProductCategory',\n",
       "       'ChannelId', 'TransactionStartTime'],\n",
       "      dtype='object')"
      ]
     },
     "execution_count": 12,
     "metadata": {},
     "output_type": "execute_result"
    }
   ],
   "source": [
    "categorical_features = train.select_dtypes(include=[np.object])\n",
    "categorical_features.columns"
   ]
  },
  {
   "cell_type": "code",
   "execution_count": 13,
   "metadata": {},
   "outputs": [
    {
     "data": {
      "text/plain": [
       "<function matplotlib.pyplot.show(*args, **kw)>"
      ]
     },
     "execution_count": 13,
     "metadata": {},
     "output_type": "execute_result"
    },
    {
     "data": {
      "image/png": "[encoded data removed]",
      "text/plain": [
       "<Figure size 432x288 with 1 Axes>"
      ]
     },
     "metadata": {
      "needs_background": "light"
     },
     "output_type": "display_data"
    }
   ],
   "source": [
    "# pricing and fraudresults\n",
    "sns.countplot(y='ProviderId', data=train1, hue='FraudResult')\n",
    "plt.show"
   ]
  },
  {
   "cell_type": "code",
   "execution_count": 14,
   "metadata": {},
   "outputs": [
    {
     "data": {
      "image/png": "[encoded data removed]",
      "text/plain": [
       "<Figure size 432x288 with 1 Axes>"
      ]
     },
     "metadata": {
      "needs_background": "light"
     },
     "output_type": "display_data"
    }
   ],
   "source": [
    "# pricingstrategy and fraudresult\n",
    "sns.countplot(x='PricingStrategy', data=train1, hue='FraudResult')\n",
    "plt.show()"
   ]
  },
  {
   "cell_type": "code",
   "execution_count": 16,
   "metadata": {},
   "outputs": [
    {
     "data": {
      "text/plain": [
       "<matplotlib.axes._subplots.AxesSubplot at 0x1b2a04b3be0>"
      ]
     },
     "execution_count": 16,
     "metadata": {},
     "output_type": "execute_result"
    },
    {
     "data": {
      "image/png": "[encoded data removed]",
      "text/plain": [
       "<Figure size 432x288 with 1 Axes>"
      ]
     },
     "metadata": {
      "needs_background": "light"
     },
     "output_type": "display_data"
    }
   ],
   "source": [
    "# product category and fraudresult\n",
    "sns.countplot(y='ProductCategory',data = train1, hue = 'FraudResult')"
   ]
  },
  {
   "cell_type": "code",
   "execution_count": 17,
   "metadata": {},
   "outputs": [
    {
     "data": {
      "text/plain": [
       "<matplotlib.axes._subplots.AxesSubplot at 0x1b2a0d2fb38>"
      ]
     },
     "execution_count": 17,
     "metadata": {},
     "output_type": "execute_result"
    },
    {
     "data": {
      "image/png": "[encoded data removed]",
      "text/plain": [
       "<Figure size 432x288 with 1 Axes>"
      ]
     },
     "metadata": {
      "needs_background": "light"
     },
     "output_type": "display_data"
    }
   ],
   "source": [
    "# ProductId and fraudresult\n",
    "sns.countplot(y='ProductId', data = train1, hue = 'FraudResult')"
   ]
  },
  {
   "cell_type": "code",
   "execution_count": 18,
   "metadata": {},
   "outputs": [
    {
     "data": {
      "text/plain": [
       "<matplotlib.axes._subplots.AxesSubplot at 0x1b2a0e430f0>"
      ]
     },
     "execution_count": 18,
     "metadata": {},
     "output_type": "execute_result"
    },
    {
     "data": {
      "image/png": "[encoded data removed]",
      "text/plain": [
       "<Figure size 432x288 with 1 Axes>"
      ]
     },
     "metadata": {
      "needs_background": "light"
     },
     "output_type": "display_data"
    }
   ],
   "source": [
    "# channelid and fraudresult\n",
    "sns.countplot(x='ChannelId', data = train1, hue = 'FraudResult')"
   ]
  },
  {
   "cell_type": "markdown",
   "metadata": {},
   "source": [
    "1. find the outliers outliers and remove them\n",
    "2. wrangle the time feature and include it to the rest of the data\n",
    "3. drop features that do not correlate to fraud.\n",
    "4. dummie-encoding the right features"
   ]
  },
  {
   "cell_type": "code",
   "execution_count": 108,
   "metadata": {},
   "outputs": [],
   "source": [
    "# TIME WRANGLING\n",
    "# train1\n",
    "train1['hour'] = pd.to_datetime(train1.TransactionStartTime).dt.hour\n",
    "train1['minute'] = pd.to_datetime(train1.TransactionStartTime).dt.minute\n",
    "train1['day'] = pd.to_datetime(train1.TransactionStartTime).dt.dayofweek\n",
    "\n",
    "# validation\n",
    "validation['hour'] = pd.to_datetime(validation.TransactionStartTime).dt.hour\n",
    "validation['minute'] = pd.to_datetime(validation.TransactionStartTime).dt.minute\n",
    "validation['day'] = pd.to_datetime(validation.TransactionStartTime).dt.dayofweek\n"
   ]
  },
  {
   "cell_type": "code",
   "execution_count": 109,
   "metadata": {},
   "outputs": [],
   "source": [
    "train1['period'] = np.nan\n",
    "validation['period'] = np.nan"
   ]
  },
  {
   "cell_type": "code",
   "execution_count": 110,
   "metadata": {},
   "outputs": [],
   "source": [
    "# train1\n",
    "train1.loc[train1.hour < 7, 'period']= 'em'\n",
    "train1.loc[(train1.hour >= 7) & (train1.hour < 11), 'period'] = 'am'\n",
    "train1.loc[(train1.hour >= 11) & (train1.hour < 15), 'period'] = 'mid'\n",
    "train1.loc[(train1.hour >= 15) & (train1.hour < 19), 'period'] = 'eve'\n",
    "train1.loc[(train1.hour >= 19) & (train1.hour <=24), 'period'] = 'pm'\n",
    "\n",
    "# validation\n",
    "validation.loc[validation.hour < 7, 'period']= 'em'\n",
    "validation.loc[(validation.hour >= 7) & (validation.hour < 11), 'period'] = 'am'\n",
    "validation.loc[(validation.hour >= 11) & (validation.hour < 15), 'period'] = 'mid'\n",
    "validation.loc[(validation.hour >= 15) & (validation.hour < 19), 'period'] = 'eve'\n",
    "validation.loc[(validation.hour >= 19) & (validation.hour <=24), 'period'] = 'pm'"
   ]
  },
  {
   "cell_type": "code",
   "execution_count": 111,
   "metadata": {},
   "outputs": [
    {
     "data": {
      "text/html": [
       "<div>\n",
       "<style scoped>\n",
       "    .dataframe tbody tr th:only-of-type {\n",
       "        vertical-align: middle;\n",
       "    }\n",
       "\n",
       "    .dataframe tbody tr th {\n",
       "        vertical-align: top;\n",
       "    }\n",
       "\n",
       "    .dataframe thead th {\n",
       "        text-align: right;\n",
       "    }\n",
       "</style>\n",
       "<table border=\"1\" class=\"dataframe\">\n",
       "  <thead>\n",
       "    <tr style=\"text-align: right;\">\n",
       "      <th></th>\n",
       "      <th>TransactionId</th>\n",
       "      <th>BatchId</th>\n",
       "      <th>AccountId</th>\n",
       "      <th>SubscriptionId</th>\n",
       "      <th>CustomerId</th>\n",
       "      <th>CurrencyCode</th>\n",
       "      <th>CountryCode</th>\n",
       "      <th>ProviderId</th>\n",
       "      <th>ProductId</th>\n",
       "      <th>ProductCategory</th>\n",
       "      <th>ChannelId</th>\n",
       "      <th>Amount</th>\n",
       "      <th>Value</th>\n",
       "      <th>TransactionStartTime</th>\n",
       "      <th>PricingStrategy</th>\n",
       "      <th>FraudResult</th>\n",
       "      <th>hour</th>\n",
       "      <th>minute</th>\n",
       "      <th>day</th>\n",
       "      <th>period</th>\n",
       "      <th>minutes</th>\n",
       "    </tr>\n",
       "  </thead>\n",
       "  <tbody>\n",
       "    <tr>\n",
       "      <th>0</th>\n",
       "      <td>TransactionId_76871</td>\n",
       "      <td>BatchId_36123</td>\n",
       "      <td>AccountId_3957</td>\n",
       "      <td>SubscriptionId_887</td>\n",
       "      <td>CustomerId_4406</td>\n",
       "      <td>UGX</td>\n",
       "      <td>256</td>\n",
       "      <td>ProviderId_6</td>\n",
       "      <td>ProductId_10</td>\n",
       "      <td>airtime</td>\n",
       "      <td>ChannelId_3</td>\n",
       "      <td>1000.0</td>\n",
       "      <td>1000</td>\n",
       "      <td>2018-11-15T02:18:49Z</td>\n",
       "      <td>2</td>\n",
       "      <td>0</td>\n",
       "      <td>2</td>\n",
       "      <td>18</td>\n",
       "      <td>3</td>\n",
       "      <td>em</td>\n",
       "      <td>4458</td>\n",
       "    </tr>\n",
       "    <tr>\n",
       "      <th>1</th>\n",
       "      <td>TransactionId_73770</td>\n",
       "      <td>BatchId_15642</td>\n",
       "      <td>AccountId_4841</td>\n",
       "      <td>SubscriptionId_3829</td>\n",
       "      <td>CustomerId_4406</td>\n",
       "      <td>UGX</td>\n",
       "      <td>256</td>\n",
       "      <td>ProviderId_4</td>\n",
       "      <td>ProductId_6</td>\n",
       "      <td>financial_services</td>\n",
       "      <td>ChannelId_2</td>\n",
       "      <td>-20.0</td>\n",
       "      <td>20</td>\n",
       "      <td>2018-11-15T02:19:08Z</td>\n",
       "      <td>2</td>\n",
       "      <td>0</td>\n",
       "      <td>2</td>\n",
       "      <td>19</td>\n",
       "      <td>3</td>\n",
       "      <td>em</td>\n",
       "      <td>4459</td>\n",
       "    </tr>\n",
       "    <tr>\n",
       "      <th>2</th>\n",
       "      <td>TransactionId_26203</td>\n",
       "      <td>BatchId_53941</td>\n",
       "      <td>AccountId_4229</td>\n",
       "      <td>SubscriptionId_222</td>\n",
       "      <td>CustomerId_4683</td>\n",
       "      <td>UGX</td>\n",
       "      <td>256</td>\n",
       "      <td>ProviderId_6</td>\n",
       "      <td>ProductId_1</td>\n",
       "      <td>airtime</td>\n",
       "      <td>ChannelId_3</td>\n",
       "      <td>500.0</td>\n",
       "      <td>500</td>\n",
       "      <td>2018-11-15T02:44:21Z</td>\n",
       "      <td>2</td>\n",
       "      <td>0</td>\n",
       "      <td>2</td>\n",
       "      <td>44</td>\n",
       "      <td>3</td>\n",
       "      <td>em</td>\n",
       "      <td>4484</td>\n",
       "    </tr>\n",
       "    <tr>\n",
       "      <th>3</th>\n",
       "      <td>TransactionId_380</td>\n",
       "      <td>BatchId_102363</td>\n",
       "      <td>AccountId_648</td>\n",
       "      <td>SubscriptionId_2185</td>\n",
       "      <td>CustomerId_988</td>\n",
       "      <td>UGX</td>\n",
       "      <td>256</td>\n",
       "      <td>ProviderId_1</td>\n",
       "      <td>ProductId_21</td>\n",
       "      <td>utility_bill</td>\n",
       "      <td>ChannelId_3</td>\n",
       "      <td>20000.0</td>\n",
       "      <td>21800</td>\n",
       "      <td>2018-11-15T03:32:55Z</td>\n",
       "      <td>2</td>\n",
       "      <td>0</td>\n",
       "      <td>3</td>\n",
       "      <td>32</td>\n",
       "      <td>3</td>\n",
       "      <td>em</td>\n",
       "      <td>4532</td>\n",
       "    </tr>\n",
       "    <tr>\n",
       "      <th>4</th>\n",
       "      <td>TransactionId_28195</td>\n",
       "      <td>BatchId_38780</td>\n",
       "      <td>AccountId_4841</td>\n",
       "      <td>SubscriptionId_3829</td>\n",
       "      <td>CustomerId_988</td>\n",
       "      <td>UGX</td>\n",
       "      <td>256</td>\n",
       "      <td>ProviderId_4</td>\n",
       "      <td>ProductId_6</td>\n",
       "      <td>financial_services</td>\n",
       "      <td>ChannelId_2</td>\n",
       "      <td>-644.0</td>\n",
       "      <td>644</td>\n",
       "      <td>2018-11-15T03:34:21Z</td>\n",
       "      <td>2</td>\n",
       "      <td>0</td>\n",
       "      <td>3</td>\n",
       "      <td>34</td>\n",
       "      <td>3</td>\n",
       "      <td>em</td>\n",
       "      <td>4534</td>\n",
       "    </tr>\n",
       "  </tbody>\n",
       "</table>\n",
       "</div>"
      ],
      "text/plain": [
       "         TransactionId         BatchId       AccountId       SubscriptionId  \\\n",
       "0  TransactionId_76871   BatchId_36123  AccountId_3957   SubscriptionId_887   \n",
       "1  TransactionId_73770   BatchId_15642  AccountId_4841  SubscriptionId_3829   \n",
       "2  TransactionId_26203   BatchId_53941  AccountId_4229   SubscriptionId_222   \n",
       "3    TransactionId_380  BatchId_102363   AccountId_648  SubscriptionId_2185   \n",
       "4  TransactionId_28195   BatchId_38780  AccountId_4841  SubscriptionId_3829   \n",
       "\n",
       "        CustomerId CurrencyCode  CountryCode    ProviderId     ProductId  \\\n",
       "0  CustomerId_4406          UGX          256  ProviderId_6  ProductId_10   \n",
       "1  CustomerId_4406          UGX          256  ProviderId_4   ProductId_6   \n",
       "2  CustomerId_4683          UGX          256  ProviderId_6   ProductId_1   \n",
       "3   CustomerId_988          UGX          256  ProviderId_1  ProductId_21   \n",
       "4   CustomerId_988          UGX          256  ProviderId_4   ProductId_6   \n",
       "\n",
       "      ProductCategory    ChannelId   Amount  Value  TransactionStartTime  \\\n",
       "0             airtime  ChannelId_3   1000.0   1000  2018-11-15T02:18:49Z   \n",
       "1  financial_services  ChannelId_2    -20.0     20  2018-11-15T02:19:08Z   \n",
       "2             airtime  ChannelId_3    500.0    500  2018-11-15T02:44:21Z   \n",
       "3        utility_bill  ChannelId_3  20000.0  21800  2018-11-15T03:32:55Z   \n",
       "4  financial_services  ChannelId_2   -644.0    644  2018-11-15T03:34:21Z   \n",
       "\n",
       "   PricingStrategy  FraudResult  hour  minute  day period  minutes  \n",
       "0                2            0     2      18    3     em     4458  \n",
       "1                2            0     2      19    3     em     4459  \n",
       "2                2            0     2      44    3     em     4484  \n",
       "3                2            0     3      32    3     em     4532  \n",
       "4                2            0     3      34    3     em     4534  "
      ]
     },
     "execution_count": 111,
     "metadata": {},
     "output_type": "execute_result"
    }
   ],
   "source": [
    "train1['minutes'] = train1['hour']*60 + train1['minute'] + train1['day']*24*60\n",
    "validation['minutes'] = validation['hour']*60 + validation['minute'] + validation['day']*24*60\n",
    "train1.head()"
   ]
  },
  {
   "cell_type": "code",
   "execution_count": 112,
   "metadata": {},
   "outputs": [],
   "source": [
    "# drop features\n",
    "train1 = train1.drop(['BatchId','AccountId','SubscriptionId','CustomerId','CurrencyCode','CountryCode','Amount','TransactionStartTime','hour','minute','day'], axis=1)\n",
    "validation = validation.drop(['BatchId','AccountId','SubscriptionId','CustomerId','CurrencyCode','CountryCode','Amount','TransactionStartTime','hour','minute','day'], axis=1)"
   ]
  },
  {
   "cell_type": "code",
   "execution_count": 113,
   "metadata": {},
   "outputs": [],
   "source": [
    "# normalize\n",
    "from sklearn.preprocessing import MinMaxScaler\n",
    "# minutes\n",
    "scaler_minutes = MinMaxScaler()\n",
    "train1['minutes'] = train1['minutes'].astype('float64')\n",
    "train1['minutes'] = scaler_minutes.fit_transform(train1.minutes.values.reshape(-1,1))\n",
    "\n",
    "validation['minutes'] = scaler_minutes.fit_transform(validation.minutes.values.reshape(-1,1))\n",
    "# value\n",
    "scaler_Value = MinMaxScaler()\n",
    "train1['Value'] = scaler_Value.fit_transform(train1.Value.values.reshape(-1,1))\n",
    "\n",
    "validation['Value'] = scaler_Value.fit_transform(validation.Value.values.reshape(-1,1))"
   ]
  },
  {
   "cell_type": "code",
   "execution_count": 114,
   "metadata": {},
   "outputs": [],
   "source": [
    "validation1 = validation.copy()"
   ]
  },
  {
   "cell_type": "code",
   "execution_count": 115,
   "metadata": {},
   "outputs": [
    {
     "data": {
      "text/html": [
       "<div>\n",
       "<style scoped>\n",
       "    .dataframe tbody tr th:only-of-type {\n",
       "        vertical-align: middle;\n",
       "    }\n",
       "\n",
       "    .dataframe tbody tr th {\n",
       "        vertical-align: top;\n",
       "    }\n",
       "\n",
       "    .dataframe thead th {\n",
       "        text-align: right;\n",
       "    }\n",
       "</style>\n",
       "<table border=\"1\" class=\"dataframe\">\n",
       "  <thead>\n",
       "    <tr style=\"text-align: right;\">\n",
       "      <th></th>\n",
       "      <th>ProviderId</th>\n",
       "      <th>ProductId</th>\n",
       "      <th>ProductCategory</th>\n",
       "      <th>ChannelId</th>\n",
       "      <th>Value</th>\n",
       "      <th>PricingStrategy</th>\n",
       "      <th>FraudResult</th>\n",
       "      <th>period</th>\n",
       "      <th>minutes</th>\n",
       "    </tr>\n",
       "  </thead>\n",
       "  <tbody>\n",
       "    <tr>\n",
       "      <th>0</th>\n",
       "      <td>ProviderId_6</td>\n",
       "      <td>ProductId_10</td>\n",
       "      <td>airtime</td>\n",
       "      <td>ChannelId_3</td>\n",
       "      <td>0.000101</td>\n",
       "      <td>2</td>\n",
       "      <td>0</td>\n",
       "      <td>em</td>\n",
       "      <td>0.442271</td>\n",
       "    </tr>\n",
       "    <tr>\n",
       "      <th>1</th>\n",
       "      <td>ProviderId_4</td>\n",
       "      <td>ProductId_6</td>\n",
       "      <td>financial_services</td>\n",
       "      <td>ChannelId_2</td>\n",
       "      <td>0.000002</td>\n",
       "      <td>2</td>\n",
       "      <td>0</td>\n",
       "      <td>em</td>\n",
       "      <td>0.442371</td>\n",
       "    </tr>\n",
       "    <tr>\n",
       "      <th>2</th>\n",
       "      <td>ProviderId_6</td>\n",
       "      <td>ProductId_1</td>\n",
       "      <td>airtime</td>\n",
       "      <td>ChannelId_3</td>\n",
       "      <td>0.000050</td>\n",
       "      <td>2</td>\n",
       "      <td>0</td>\n",
       "      <td>em</td>\n",
       "      <td>0.444853</td>\n",
       "    </tr>\n",
       "    <tr>\n",
       "      <th>3</th>\n",
       "      <td>ProviderId_1</td>\n",
       "      <td>ProductId_21</td>\n",
       "      <td>utility_bill</td>\n",
       "      <td>ChannelId_3</td>\n",
       "      <td>0.002206</td>\n",
       "      <td>2</td>\n",
       "      <td>0</td>\n",
       "      <td>em</td>\n",
       "      <td>0.449618</td>\n",
       "    </tr>\n",
       "    <tr>\n",
       "      <th>4</th>\n",
       "      <td>ProviderId_4</td>\n",
       "      <td>ProductId_6</td>\n",
       "      <td>financial_services</td>\n",
       "      <td>ChannelId_2</td>\n",
       "      <td>0.000065</td>\n",
       "      <td>2</td>\n",
       "      <td>0</td>\n",
       "      <td>em</td>\n",
       "      <td>0.449816</td>\n",
       "    </tr>\n",
       "  </tbody>\n",
       "</table>\n",
       "</div>"
      ],
      "text/plain": [
       "     ProviderId     ProductId     ProductCategory    ChannelId     Value  \\\n",
       "0  ProviderId_6  ProductId_10             airtime  ChannelId_3  0.000101   \n",
       "1  ProviderId_4   ProductId_6  financial_services  ChannelId_2  0.000002   \n",
       "2  ProviderId_6   ProductId_1             airtime  ChannelId_3  0.000050   \n",
       "3  ProviderId_1  ProductId_21        utility_bill  ChannelId_3  0.002206   \n",
       "4  ProviderId_4   ProductId_6  financial_services  ChannelId_2  0.000065   \n",
       "\n",
       "   PricingStrategy  FraudResult period   minutes  \n",
       "0                2            0     em  0.442271  \n",
       "1                2            0     em  0.442371  \n",
       "2                2            0     em  0.444853  \n",
       "3                2            0     em  0.449618  \n",
       "4                2            0     em  0.449816  "
      ]
     },
     "execution_count": 115,
     "metadata": {},
     "output_type": "execute_result"
    }
   ],
   "source": [
    "# drop Transactionid\n",
    "train1 = train1.drop(['TransactionId'], axis=1)\n",
    "validation = validation.drop(['TransactionId'], axis=1)\n",
    "train1.head()"
   ]
  },
  {
   "cell_type": "code",
   "execution_count": 116,
   "metadata": {},
   "outputs": [],
   "source": [
    "# dummies\n",
    "train1 = pd.get_dummies(train1, prefix_sep='_', drop_first=True)\n",
    "validation = pd.get_dummies(validation, prefix_sep='_', drop_first=True)"
   ]
  },
  {
   "cell_type": "code",
   "execution_count": 117,
   "metadata": {},
   "outputs": [],
   "source": [
    "# drop irrelevant features\n",
    "train1 = train1.drop(['ProviderId_ProviderId_2','ProductId_ProductId_10','ProductId_ProductId_11','ProductId_ProductId_12','ProductId_ProductId_15','ProductId_ProductId_16','ProductId_ProductId_19','ProductId_ProductId_2','ProductId_ProductId_22','ProductId_ProductId_23','ProductId_ProductId_4','ProductId_ProductId_5','ProductId_ProductId_7','ProductId_ProductId_9','ProductCategory_data_bundles','ProductCategory_movies','ProductCategory_other','ProductCategory_ticket','ProductCategory_tv','ChannelId_ChannelId_5'], axis=1)\n",
    "# drop irrelevant features\n",
    "validation = validation.drop(['ProviderId_ProviderId_2','ProductId_ProductId_10','ProductId_ProductId_11','ProductId_ProductId_15','ProductId_ProductId_16','ProductId_ProductId_18','ProductId_ProductId_17','ProductId_ProductId_19','ProductId_ProductId_2','ProductId_ProductId_22','ProductId_ProductId_23','ProductId_ProductId_25','ProductId_ProductId_26','ProductId_ProductId_4','ProductId_ProductId_5','ProductId_ProductId_7','ProductId_ProductId_9','ProductCategory_data_bundles','ProductCategory_movies','ProductCategory_retail','ProductCategory_ticket','ProductCategory_tv','ChannelId_ChannelId_4','ChannelId_ChannelId_5'], axis=1)"
   ]
  },
  {
   "cell_type": "code",
   "execution_count": 118,
   "metadata": {},
   "outputs": [],
   "source": [
    "# bring the fraudresult column to be 1st\n",
    "FraudResult = train1['FraudResult']\n",
    "train1.drop(['FraudResult'], axis=1, inplace=True)\n",
    "train1.insert(0,'FraudResult', FraudResult)"
   ]
  },
  {
   "cell_type": "code",
   "execution_count": 119,
   "metadata": {},
   "outputs": [],
   "source": [
    "# rename columns\n",
    "train1.rename(columns={'ProviderId_ProviderId_3':'ProviderId3',\n",
    "                       'ProviderId_ProviderId_4':'ProviderId4',\n",
    "                       'ProviderId_ProviderId_5':'ProviderId5',\n",
    "                       'ProviderId_ProviderId_6':'ProviderId6',\n",
    "                       'ProductId_ProductId_13' :'ProductId13',\n",
    "                       'ProductId_ProductId_14' :'ProductId14',\n",
    "                       'ProductId_ProductId_20' :'ProductId20',\n",
    "                       'ProductId_ProductId_21' :'ProductId21',\n",
    "                       'ProductId_ProductId_24' :'ProductId24',\n",
    "                       'ProductId_ProductId_27' :'ProductId27',\n",
    "                       'ProductId_ProductId_3' :'ProductId3',\n",
    "                       'ProductId_ProductId_6' :'ProductId6',\n",
    "                       'ProductId_ProductId_8' :'ProductId8',\n",
    "                       'ProductCategory_financial_services':'financial_services',\n",
    "                       'ProductCategory_transport':'transport',\n",
    "                       'ProductCategory_utility_bill':'utility_bill',\n",
    "                       'ChannelId_ChannelId_2':'ChannelId2',\n",
    "                       'ChannelId_ChannelId_3':'ChannelId3',\n",
    "                       'period_em':'em',\n",
    "                       'period_eve':'eve',\n",
    "                       'period_mid':'mid',\n",
    "                       'period_pm':'pm'}, inplace=True)\n",
    "\n",
    "validation.rename(columns={'ProviderId_ProviderId_3':'ProviderId3',\n",
    "                       'ProviderId_ProviderId_4':'ProviderId4',\n",
    "                       'ProviderId_ProviderId_5':'ProviderId5',\n",
    "                       'ProviderId_ProviderId_6':'ProviderId6',\n",
    "                       'ProductId_ProductId_13' :'ProductId13',\n",
    "                       'ProductId_ProductId_14' :'ProductId14',\n",
    "                       'ProductId_ProductId_20' :'ProductId20',\n",
    "                       'ProductId_ProductId_21' :'ProductId21',\n",
    "                       'ProductId_ProductId_24' :'ProductId24',\n",
    "                       'ProductId_ProductId_27' :'ProductId27',\n",
    "                       'ProductId_ProductId_3' :'ProductId3',\n",
    "                       'ProductId_ProductId_6' :'ProductId6',\n",
    "                       'ProductId_ProductId_8' :'ProductId8',\n",
    "                       'ProductCategory_financial_services':'financial_services',\n",
    "                       'ProductCategory_transport':'transport',\n",
    "                       'ProductCategory_utility_bill':'utility_bill',\n",
    "                       'ChannelId_ChannelId_2':'ChannelId2',\n",
    "                       'ChannelId_ChannelId_3':'ChannelId3',\n",
    "                       'period_em':'em',\n",
    "                       'period_eve':'eve',\n",
    "                       'period_mid':'mid',\n",
    "                       'period_pm':'pm'}, inplace=True)"
   ]
  },
  {
   "cell_type": "code",
   "execution_count": 120,
   "metadata": {},
   "outputs": [
    {
     "data": {
      "text/html": [
       "<div>\n",
       "<style scoped>\n",
       "    .dataframe tbody tr th:only-of-type {\n",
       "        vertical-align: middle;\n",
       "    }\n",
       "\n",
       "    .dataframe tbody tr th {\n",
       "        vertical-align: top;\n",
       "    }\n",
       "\n",
       "    .dataframe thead th {\n",
       "        text-align: right;\n",
       "    }\n",
       "</style>\n",
       "<table border=\"1\" class=\"dataframe\">\n",
       "  <thead>\n",
       "    <tr style=\"text-align: right;\">\n",
       "      <th></th>\n",
       "      <th>FraudResult</th>\n",
       "      <th>Value</th>\n",
       "      <th>PricingStrategy</th>\n",
       "      <th>minutes</th>\n",
       "      <th>ProviderId3</th>\n",
       "      <th>ProviderId4</th>\n",
       "      <th>ProviderId5</th>\n",
       "      <th>ProviderId6</th>\n",
       "      <th>ProductId13</th>\n",
       "      <th>ProductId14</th>\n",
       "      <th>ProductId20</th>\n",
       "      <th>ProductId21</th>\n",
       "      <th>ProductId24</th>\n",
       "      <th>ProductId27</th>\n",
       "      <th>ProductId3</th>\n",
       "      <th>ProductId6</th>\n",
       "      <th>ProductId8</th>\n",
       "      <th>financial_services</th>\n",
       "      <th>transport</th>\n",
       "      <th>utility_bill</th>\n",
       "      <th>ChannelId2</th>\n",
       "      <th>ChannelId3</th>\n",
       "      <th>em</th>\n",
       "      <th>eve</th>\n",
       "      <th>mid</th>\n",
       "      <th>pm</th>\n",
       "    </tr>\n",
       "  </thead>\n",
       "  <tbody>\n",
       "    <tr>\n",
       "      <th>0</th>\n",
       "      <td>0</td>\n",
       "      <td>0.000101</td>\n",
       "      <td>2</td>\n",
       "      <td>0.442271</td>\n",
       "      <td>0</td>\n",
       "      <td>0</td>\n",
       "      <td>0</td>\n",
       "      <td>1</td>\n",
       "      <td>0</td>\n",
       "      <td>0</td>\n",
       "      <td>0</td>\n",
       "      <td>0</td>\n",
       "      <td>0</td>\n",
       "      <td>0</td>\n",
       "      <td>0</td>\n",
       "      <td>0</td>\n",
       "      <td>0</td>\n",
       "      <td>0</td>\n",
       "      <td>0</td>\n",
       "      <td>0</td>\n",
       "      <td>0</td>\n",
       "      <td>1</td>\n",
       "      <td>1</td>\n",
       "      <td>0</td>\n",
       "      <td>0</td>\n",
       "      <td>0</td>\n",
       "    </tr>\n",
       "    <tr>\n",
       "      <th>1</th>\n",
       "      <td>0</td>\n",
       "      <td>0.000002</td>\n",
       "      <td>2</td>\n",
       "      <td>0.442371</td>\n",
       "      <td>0</td>\n",
       "      <td>1</td>\n",
       "      <td>0</td>\n",
       "      <td>0</td>\n",
       "      <td>0</td>\n",
       "      <td>0</td>\n",
       "      <td>0</td>\n",
       "      <td>0</td>\n",
       "      <td>0</td>\n",
       "      <td>0</td>\n",
       "      <td>0</td>\n",
       "      <td>1</td>\n",
       "      <td>0</td>\n",
       "      <td>1</td>\n",
       "      <td>0</td>\n",
       "      <td>0</td>\n",
       "      <td>1</td>\n",
       "      <td>0</td>\n",
       "      <td>1</td>\n",
       "      <td>0</td>\n",
       "      <td>0</td>\n",
       "      <td>0</td>\n",
       "    </tr>\n",
       "    <tr>\n",
       "      <th>2</th>\n",
       "      <td>0</td>\n",
       "      <td>0.000050</td>\n",
       "      <td>2</td>\n",
       "      <td>0.444853</td>\n",
       "      <td>0</td>\n",
       "      <td>0</td>\n",
       "      <td>0</td>\n",
       "      <td>1</td>\n",
       "      <td>0</td>\n",
       "      <td>0</td>\n",
       "      <td>0</td>\n",
       "      <td>0</td>\n",
       "      <td>0</td>\n",
       "      <td>0</td>\n",
       "      <td>0</td>\n",
       "      <td>0</td>\n",
       "      <td>0</td>\n",
       "      <td>0</td>\n",
       "      <td>0</td>\n",
       "      <td>0</td>\n",
       "      <td>0</td>\n",
       "      <td>1</td>\n",
       "      <td>1</td>\n",
       "      <td>0</td>\n",
       "      <td>0</td>\n",
       "      <td>0</td>\n",
       "    </tr>\n",
       "    <tr>\n",
       "      <th>3</th>\n",
       "      <td>0</td>\n",
       "      <td>0.002206</td>\n",
       "      <td>2</td>\n",
       "      <td>0.449618</td>\n",
       "      <td>0</td>\n",
       "      <td>0</td>\n",
       "      <td>0</td>\n",
       "      <td>0</td>\n",
       "      <td>0</td>\n",
       "      <td>0</td>\n",
       "      <td>0</td>\n",
       "      <td>1</td>\n",
       "      <td>0</td>\n",
       "      <td>0</td>\n",
       "      <td>0</td>\n",
       "      <td>0</td>\n",
       "      <td>0</td>\n",
       "      <td>0</td>\n",
       "      <td>0</td>\n",
       "      <td>1</td>\n",
       "      <td>0</td>\n",
       "      <td>1</td>\n",
       "      <td>1</td>\n",
       "      <td>0</td>\n",
       "      <td>0</td>\n",
       "      <td>0</td>\n",
       "    </tr>\n",
       "    <tr>\n",
       "      <th>4</th>\n",
       "      <td>0</td>\n",
       "      <td>0.000065</td>\n",
       "      <td>2</td>\n",
       "      <td>0.449816</td>\n",
       "      <td>0</td>\n",
       "      <td>1</td>\n",
       "      <td>0</td>\n",
       "      <td>0</td>\n",
       "      <td>0</td>\n",
       "      <td>0</td>\n",
       "      <td>0</td>\n",
       "      <td>0</td>\n",
       "      <td>0</td>\n",
       "      <td>0</td>\n",
       "      <td>0</td>\n",
       "      <td>1</td>\n",
       "      <td>0</td>\n",
       "      <td>1</td>\n",
       "      <td>0</td>\n",
       "      <td>0</td>\n",
       "      <td>1</td>\n",
       "      <td>0</td>\n",
       "      <td>1</td>\n",
       "      <td>0</td>\n",
       "      <td>0</td>\n",
       "      <td>0</td>\n",
       "    </tr>\n",
       "  </tbody>\n",
       "</table>\n",
       "</div>"
      ],
      "text/plain": [
       "   FraudResult     Value  PricingStrategy   minutes  ProviderId3  ProviderId4  \\\n",
       "0            0  0.000101                2  0.442271            0            0   \n",
       "1            0  0.000002                2  0.442371            0            1   \n",
       "2            0  0.000050                2  0.444853            0            0   \n",
       "3            0  0.002206                2  0.449618            0            0   \n",
       "4            0  0.000065                2  0.449816            0            1   \n",
       "\n",
       "   ProviderId5  ProviderId6  ProductId13  ProductId14  ProductId20  \\\n",
       "0            0            1            0            0            0   \n",
       "1            0            0            0            0            0   \n",
       "2            0            1            0            0            0   \n",
       "3            0            0            0            0            0   \n",
       "4            0            0            0            0            0   \n",
       "\n",
       "   ProductId21  ProductId24  ProductId27  ProductId3  ProductId6  ProductId8  \\\n",
       "0            0            0            0           0           0           0   \n",
       "1            0            0            0           0           1           0   \n",
       "2            0            0            0           0           0           0   \n",
       "3            1            0            0           0           0           0   \n",
       "4            0            0            0           0           1           0   \n",
       "\n",
       "   financial_services  transport  utility_bill  ChannelId2  ChannelId3  em  \\\n",
       "0                   0          0             0           0           1   1   \n",
       "1                   1          0             0           1           0   1   \n",
       "2                   0          0             0           0           1   1   \n",
       "3                   0          0             1           0           1   1   \n",
       "4                   1          0             0           1           0   1   \n",
       "\n",
       "   eve  mid  pm  \n",
       "0    0    0   0  \n",
       "1    0    0   0  \n",
       "2    0    0   0  \n",
       "3    0    0   0  \n",
       "4    0    0   0  "
      ]
     },
     "execution_count": 120,
     "metadata": {},
     "output_type": "execute_result"
    }
   ],
   "source": [
    "train1.head()"
   ]
  },
  {
   "cell_type": "code",
   "execution_count": 121,
   "metadata": {},
   "outputs": [],
   "source": [
    "train1['exponential'] = np.log(train1['Value']**2 + train1['PricingStrategy']**2 + train1['ProviderId3']**2 + train1['ProviderId4']**2 + train1['ProviderId6']**2 + train1['ProductId13']**2 +train1['ProductId14']**2 + train1['ProductId20']**2 + train1['ProductId21']**2 + train1['ProductId24']**2 + train1['ProductId27']**2 + train1['ProductId3']**2 + train1['ProductId6']**2 + train1['ProductId8']**2 + train1['financial_services']**2 + train1['transport']**2 + train1['utility_bill']**2 + train1['ChannelId2']**2 + train1['ChannelId3']**2)\n",
    "train1['matrix'] = np.log(train1['ProviderId3']**2 + train1['ProviderId4']**2 + train1['ProviderId6']**2 + train1['Value']**2 + train1['ChannelId2']**2 + train1['ChannelId3']**2)\n",
    " \n",
    "validation['exponential'] = np.log(validation['Value']**2 + validation['PricingStrategy']**2 + validation['ProviderId3']**2 + validation['ProviderId4']**2 + validation['ProviderId6']**2 + validation['ProductId13']**2 +validation['ProductId14']**2 + validation['ProductId20']**2 + validation['ProductId21']**2 + validation['ProductId24']**2 + validation['ProductId27']**2 + validation['ProductId3']**2 + validation['ProductId6']**2 + validation['ProductId8']**2 + validation['financial_services']**2 + validation['transport']**2 + validation['utility_bill']**2 + validation['ChannelId2']**2 + validation['ChannelId3']**2)\n",
    "validation['matrix'] = np.log(validation['ProviderId3']**2 + validation['ProviderId4']**2 + validation['ProviderId6']**2 + validation['Value']**2 + validation['ChannelId2']**2 + validation['ChannelId3']**2)\n",
    "     "
   ]
  },
  {
   "cell_type": "code",
   "execution_count": 122,
   "metadata": {},
   "outputs": [
    {
     "data": {
      "text/html": [
       "<div>\n",
       "<style scoped>\n",
       "    .dataframe tbody tr th:only-of-type {\n",
       "        vertical-align: middle;\n",
       "    }\n",
       "\n",
       "    .dataframe tbody tr th {\n",
       "        vertical-align: top;\n",
       "    }\n",
       "\n",
       "    .dataframe thead th {\n",
       "        text-align: right;\n",
       "    }\n",
       "</style>\n",
       "<table border=\"1\" class=\"dataframe\">\n",
       "  <thead>\n",
       "    <tr style=\"text-align: right;\">\n",
       "      <th></th>\n",
       "      <th>FraudResult</th>\n",
       "      <th>Value</th>\n",
       "      <th>PricingStrategy</th>\n",
       "      <th>minutes</th>\n",
       "      <th>ProviderId3</th>\n",
       "      <th>ProviderId4</th>\n",
       "      <th>ProviderId5</th>\n",
       "      <th>ProviderId6</th>\n",
       "      <th>ProductId13</th>\n",
       "      <th>ProductId14</th>\n",
       "      <th>ProductId20</th>\n",
       "      <th>ProductId21</th>\n",
       "      <th>ProductId24</th>\n",
       "      <th>ProductId27</th>\n",
       "      <th>ProductId3</th>\n",
       "      <th>ProductId6</th>\n",
       "      <th>ProductId8</th>\n",
       "      <th>financial_services</th>\n",
       "      <th>transport</th>\n",
       "      <th>utility_bill</th>\n",
       "      <th>ChannelId2</th>\n",
       "      <th>ChannelId3</th>\n",
       "      <th>em</th>\n",
       "      <th>eve</th>\n",
       "      <th>mid</th>\n",
       "      <th>pm</th>\n",
       "      <th>exponential</th>\n",
       "      <th>matrix</th>\n",
       "    </tr>\n",
       "  </thead>\n",
       "  <tbody>\n",
       "    <tr>\n",
       "      <th>0</th>\n",
       "      <td>0</td>\n",
       "      <td>0.000101</td>\n",
       "      <td>2</td>\n",
       "      <td>0.442271</td>\n",
       "      <td>0</td>\n",
       "      <td>0</td>\n",
       "      <td>0</td>\n",
       "      <td>1</td>\n",
       "      <td>0</td>\n",
       "      <td>0</td>\n",
       "      <td>0</td>\n",
       "      <td>0</td>\n",
       "      <td>0</td>\n",
       "      <td>0</td>\n",
       "      <td>0</td>\n",
       "      <td>0</td>\n",
       "      <td>0</td>\n",
       "      <td>0</td>\n",
       "      <td>0</td>\n",
       "      <td>0</td>\n",
       "      <td>0</td>\n",
       "      <td>1</td>\n",
       "      <td>1</td>\n",
       "      <td>0</td>\n",
       "      <td>0</td>\n",
       "      <td>0</td>\n",
       "      <td>1.791759</td>\n",
       "      <td>0.693147</td>\n",
       "    </tr>\n",
       "    <tr>\n",
       "      <th>1</th>\n",
       "      <td>0</td>\n",
       "      <td>0.000002</td>\n",
       "      <td>2</td>\n",
       "      <td>0.442371</td>\n",
       "      <td>0</td>\n",
       "      <td>1</td>\n",
       "      <td>0</td>\n",
       "      <td>0</td>\n",
       "      <td>0</td>\n",
       "      <td>0</td>\n",
       "      <td>0</td>\n",
       "      <td>0</td>\n",
       "      <td>0</td>\n",
       "      <td>0</td>\n",
       "      <td>0</td>\n",
       "      <td>1</td>\n",
       "      <td>0</td>\n",
       "      <td>1</td>\n",
       "      <td>0</td>\n",
       "      <td>0</td>\n",
       "      <td>1</td>\n",
       "      <td>0</td>\n",
       "      <td>1</td>\n",
       "      <td>0</td>\n",
       "      <td>0</td>\n",
       "      <td>0</td>\n",
       "      <td>2.079442</td>\n",
       "      <td>0.693147</td>\n",
       "    </tr>\n",
       "    <tr>\n",
       "      <th>2</th>\n",
       "      <td>0</td>\n",
       "      <td>0.000050</td>\n",
       "      <td>2</td>\n",
       "      <td>0.444853</td>\n",
       "      <td>0</td>\n",
       "      <td>0</td>\n",
       "      <td>0</td>\n",
       "      <td>1</td>\n",
       "      <td>0</td>\n",
       "      <td>0</td>\n",
       "      <td>0</td>\n",
       "      <td>0</td>\n",
       "      <td>0</td>\n",
       "      <td>0</td>\n",
       "      <td>0</td>\n",
       "      <td>0</td>\n",
       "      <td>0</td>\n",
       "      <td>0</td>\n",
       "      <td>0</td>\n",
       "      <td>0</td>\n",
       "      <td>0</td>\n",
       "      <td>1</td>\n",
       "      <td>1</td>\n",
       "      <td>0</td>\n",
       "      <td>0</td>\n",
       "      <td>0</td>\n",
       "      <td>1.791759</td>\n",
       "      <td>0.693147</td>\n",
       "    </tr>\n",
       "    <tr>\n",
       "      <th>3</th>\n",
       "      <td>0</td>\n",
       "      <td>0.002206</td>\n",
       "      <td>2</td>\n",
       "      <td>0.449618</td>\n",
       "      <td>0</td>\n",
       "      <td>0</td>\n",
       "      <td>0</td>\n",
       "      <td>0</td>\n",
       "      <td>0</td>\n",
       "      <td>0</td>\n",
       "      <td>0</td>\n",
       "      <td>1</td>\n",
       "      <td>0</td>\n",
       "      <td>0</td>\n",
       "      <td>0</td>\n",
       "      <td>0</td>\n",
       "      <td>0</td>\n",
       "      <td>0</td>\n",
       "      <td>0</td>\n",
       "      <td>1</td>\n",
       "      <td>0</td>\n",
       "      <td>1</td>\n",
       "      <td>1</td>\n",
       "      <td>0</td>\n",
       "      <td>0</td>\n",
       "      <td>0</td>\n",
       "      <td>1.945911</td>\n",
       "      <td>0.000005</td>\n",
       "    </tr>\n",
       "    <tr>\n",
       "      <th>4</th>\n",
       "      <td>0</td>\n",
       "      <td>0.000065</td>\n",
       "      <td>2</td>\n",
       "      <td>0.449816</td>\n",
       "      <td>0</td>\n",
       "      <td>1</td>\n",
       "      <td>0</td>\n",
       "      <td>0</td>\n",
       "      <td>0</td>\n",
       "      <td>0</td>\n",
       "      <td>0</td>\n",
       "      <td>0</td>\n",
       "      <td>0</td>\n",
       "      <td>0</td>\n",
       "      <td>0</td>\n",
       "      <td>1</td>\n",
       "      <td>0</td>\n",
       "      <td>1</td>\n",
       "      <td>0</td>\n",
       "      <td>0</td>\n",
       "      <td>1</td>\n",
       "      <td>0</td>\n",
       "      <td>1</td>\n",
       "      <td>0</td>\n",
       "      <td>0</td>\n",
       "      <td>0</td>\n",
       "      <td>2.079442</td>\n",
       "      <td>0.693147</td>\n",
       "    </tr>\n",
       "  </tbody>\n",
       "</table>\n",
       "</div>"
      ],
      "text/plain": [
       "   FraudResult     Value  PricingStrategy   minutes  ProviderId3  ProviderId4  \\\n",
       "0            0  0.000101                2  0.442271            0            0   \n",
       "1            0  0.000002                2  0.442371            0            1   \n",
       "2            0  0.000050                2  0.444853            0            0   \n",
       "3            0  0.002206                2  0.449618            0            0   \n",
       "4            0  0.000065                2  0.449816            0            1   \n",
       "\n",
       "   ProviderId5  ProviderId6  ProductId13  ProductId14  ProductId20  \\\n",
       "0            0            1            0            0            0   \n",
       "1            0            0            0            0            0   \n",
       "2            0            1            0            0            0   \n",
       "3            0            0            0            0            0   \n",
       "4            0            0            0            0            0   \n",
       "\n",
       "   ProductId21  ProductId24  ProductId27  ProductId3  ProductId6  ProductId8  \\\n",
       "0            0            0            0           0           0           0   \n",
       "1            0            0            0           0           1           0   \n",
       "2            0            0            0           0           0           0   \n",
       "3            1            0            0           0           0           0   \n",
       "4            0            0            0           0           1           0   \n",
       "\n",
       "   financial_services  transport  utility_bill  ChannelId2  ChannelId3  em  \\\n",
       "0                   0          0             0           0           1   1   \n",
       "1                   1          0             0           1           0   1   \n",
       "2                   0          0             0           0           1   1   \n",
       "3                   0          0             1           0           1   1   \n",
       "4                   1          0             0           1           0   1   \n",
       "\n",
       "   eve  mid  pm  exponential    matrix  \n",
       "0    0    0   0     1.791759  0.693147  \n",
       "1    0    0   0     2.079442  0.693147  \n",
       "2    0    0   0     1.791759  0.693147  \n",
       "3    0    0   0     1.945911  0.000005  \n",
       "4    0    0   0     2.079442  0.693147  "
      ]
     },
     "execution_count": 122,
     "metadata": {},
     "output_type": "execute_result"
    }
   ],
   "source": [
    "train1.head()"
   ]
  },
  {
   "cell_type": "code",
   "execution_count": 123,
   "metadata": {},
   "outputs": [],
   "source": [
    "scaler_exponential = MinMaxScaler()\n",
    "train1['exponential'] = train1['exponential'].astype('float64')\n",
    "train1['exponential'] = scaler_exponential.fit_transform(train1.exponential.values.reshape(-1,1))"
   ]
  },
  {
   "cell_type": "code",
   "execution_count": 124,
   "metadata": {},
   "outputs": [],
   "source": [
    "# selection of features\n",
    "y = train1.FraudResult\n",
    "X = train1.drop(['FraudResult'], axis=1)"
   ]
  },
  {
   "cell_type": "code",
   "execution_count": 125,
   "metadata": {},
   "outputs": [],
   "source": [
    "# split data\n",
    "from sklearn.model_selection import train_test_split\n",
    "X_train, X_test, y_train, y_test = train_test_split(X, y, test_size=0.2, random_state=42)"
   ]
  },
  {
   "cell_type": "code",
   "execution_count": 126,
   "metadata": {},
   "outputs": [],
   "source": [
    "# simple models\n",
    "# logistic regression\n",
    "from sklearn.linear_model import LogisticRegression\n",
    "LR = LogisticRegression(C=1.0, penalty='l2', tol=0.0001)\n",
    "LR.fit(X_train, y_train)\n",
    "y_pred = LR.predict(X_test)\n",
    "\n",
    "from sklearn.metrics import accuracy_score, f1_score\n",
    "LR = f1_score(y_test,y_pred)"
   ]
  },
  {
   "cell_type": "code",
   "execution_count": 127,
   "metadata": {},
   "outputs": [],
   "source": [
    "# knn\n",
    "from sklearn.neighbors import KNeighborsClassifier\n",
    "knn = KNeighborsClassifier()\n",
    "knn.fit(X_train,y_train)\n",
    "y_pred = knn.predict(X_test)\n",
    "\n",
    "knn = f1_score(y_test,y_pred)"
   ]
  },
  {
   "cell_type": "code",
   "execution_count": 128,
   "metadata": {},
   "outputs": [
    {
     "data": {
      "image/png": "[encoded data removed]",
      "text/plain": [
       "<Figure size 1152x432 with 1 Axes>"
      ]
     },
     "metadata": {
      "needs_background": "light"
     },
     "output_type": "display_data"
    }
   ],
   "source": [
    "plt.figure(figsize=(16, 6))\n",
    "s = sns.barplot(x=[\"Logistic Regression\",\"KNN\"], y=[LR,knn],color=\"seagreen\")\n",
    "for p in s.patches:\n",
    "    s.annotate(format(p.get_height(), '.2f'), \n",
    "              (p.get_x() + p.get_width() / 2., \n",
    "\n",
    "               p.get_height()), ha = 'center', va = 'center', \n",
    "              xytext = (0, 10), textcoords = 'offset points')"
   ]
  },
  {
   "cell_type": "code",
   "execution_count": 129,
   "metadata": {},
   "outputs": [],
   "source": [
    "# random forest\n",
    "from sklearn.ensemble import RandomForestClassifier\n",
    "RFC = RandomForestClassifier()\n",
    "RFC = RFC.fit(X_train,y_train)\n",
    "y_pred = RFC.predict(X_test)\n",
    "\n",
    "RFC = f1_score(y_test,y_pred)"
   ]
  },
  {
   "cell_type": "code",
   "execution_count": 130,
   "metadata": {},
   "outputs": [],
   "source": [
    "# Ada boost\n",
    "from sklearn.ensemble import AdaBoostClassifier\n",
    "adb = AdaBoostClassifier(n_estimators=100)\n",
    "adb = adb.fit(X_train,y_train)\n",
    "y_pred = adb.predict(X_test)\n",
    "\n",
    "adb = f1_score(y_test,y_pred)"
   ]
  },
  {
   "cell_type": "code",
   "execution_count": 131,
   "metadata": {},
   "outputs": [],
   "source": [
    "# gradient \n",
    "from sklearn.ensemble import GradientBoostingClassifier\n",
    "GBC = GradientBoostingClassifier()\n",
    "GBC = GBC.fit(X_train,y_train)\n",
    "y_pred = GBC.predict(X_test)\n",
    "\n",
    "GBC = f1_score(y_test,y_pred)"
   ]
  },
  {
   "cell_type": "code",
   "execution_count": 132,
   "metadata": {},
   "outputs": [
    {
     "data": {
      "image/png": "[encoded data removed]",
      "text/plain": [
       "<Figure size 1152x432 with 1 Axes>"
      ]
     },
     "metadata": {
      "needs_background": "light"
     },
     "output_type": "display_data"
    }
   ],
   "source": [
    "plt.figure(figsize=(16, 6))\n",
    "s = sns.barplot(x=[\"RandomForest\",\"Adaboost\",\"GradientBoosting\"], y=[RFC,adb,GBC],color=\"seagreen\")\n",
    "for p in s.patches:\n",
    "    s.annotate(format(p.get_height(), '.2f'), \n",
    "              (p.get_x() + p.get_width() / 2., \n",
    "\n",
    "               p.get_height()), ha = 'center', va = 'center', \n",
    "              xytext = (0, 10), textcoords = 'offset points')"
   ]
  },
  {
   "cell_type": "code",
   "execution_count": 133,
   "metadata": {},
   "outputs": [],
   "source": [
    "# bring the test dataset\n",
    "# random forest\n",
    "from sklearn.ensemble import RandomForestClassifier\n",
    "RFC = RandomForestClassifier()\n",
    "RFC = RFC.fit(X_train,y_train)\n",
    "\n",
    "\n",
    "submit = RFC.predict(validation)"
   ]
  },
  {
   "cell_type": "code",
   "execution_count": 134,
   "metadata": {},
   "outputs": [],
   "source": [
    "submission = pd.DataFrame({'TransactionId':validation1['TransactionId'],'FraudResult':submit})"
   ]
  },
  {
   "cell_type": "code",
   "execution_count": 135,
   "metadata": {},
   "outputs": [],
   "source": [
    "submission.to_csv('submit8.csv', index=False)"
   ]
  },
  {
   "cell_type": "markdown",
   "metadata": {},
   "source": [
    "SCORED 62.32% "
   ]
  }
 ],
 "metadata": {
  "kernelspec": {
   "display_name": "Python 3",
   "language": "python",
   "name": "python3"
  },
  "language_info": {
   "codemirror_mode": {
    "name": "ipython",
    "version": 3
   },
   "file_extension": ".py",
   "mimetype": "text/x-python",
   "name": "python",
   "nbconvert_exporter": "python",
   "pygments_lexer": "ipython3",
   "version": "3.7.3"
  }
 },
 "nbformat": 4,
 "nbformat_minor": 2
}
